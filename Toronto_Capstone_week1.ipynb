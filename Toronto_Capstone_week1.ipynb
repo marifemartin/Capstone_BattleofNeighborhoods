{
 "cells": [
  {
   "cell_type": "markdown",
   "metadata": {},
   "source": [
    "## The Battle of the Neighborhoods -- Coursera Capstone Project "
   ]
  },
  {
   "cell_type": "markdown",
   "metadata": {},
   "source": [
    "### Identify the business problem:\n",
    "\n",
    "    Toronto is the largest city in Canada with an estimated population of more than 6 million, so it is a good place to for entrepreneurs eager to open \n",
    "    new businesses that become profitable and get a great number of customers.\n",
    "    \n",
    "    The goal of this project is to use the Foursquare API to provide the location data and clustering of venues information to find out what would be the \n",
    "    best neighborhoods in the area of Central Toronto to open a new gym venue. Nowadays people are going to gyms more frequently due to the increasing interest\n",
    "    in a healthy lifestyle.\n",
    "    \n",
    "    "
   ]
  },
  {
   "cell_type": "markdown",
   "metadata": {},
   "source": [
    "### Target audience:\n",
    "\n",
    "    This project is aimed to entrepreneurs or business owners who want to open a new gym in Central Toronto or grow their current business in a profitable    location where little or no gyms exist today."
   ]
  },
  {
   "cell_type": "markdown",
   "metadata": {},
   "source": [
    "### Data:\n",
    "    \n",
    "    For the purpose of this project, we will need to have the list of neighborhoods of Toronto city, as well as the geographical location of the Toronto's\n",
    "    neighborhoods and the venue data for gyms through Foursquare API.\n",
    "    Here are the details:\n",
    "        \n",
    "    * Wikipedia page with the neighborhoods and postal codes of Toronto city (https://en.wikipedia.org/wiki/List_of_postal_codes_of_Canada:_M)\n",
    "    * the geographical coordinates of each postal code through reading the CSV file (https://cocl.us/Geospatial_data)\n",
    "    * explore and get the venues data using Foursquare API"
   ]
  }
 ],
 "metadata": {
  "kernelspec": {
   "display_name": "Python",
   "language": "python",
   "name": "conda-env-python-py"
  },
  "language_info": {
   "codemirror_mode": {
    "name": "ipython",
    "version": 3
   },
   "file_extension": ".py",
   "mimetype": "text/x-python",
   "name": "python",
   "nbconvert_exporter": "python",
   "pygments_lexer": "ipython3",
   "version": "3.6.11"
  }
 },
 "nbformat": 4,
 "nbformat_minor": 4
}
